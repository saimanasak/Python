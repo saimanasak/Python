{
  "cells": [
    {
      "cell_type": "code",
      "execution_count": 10,
      "id": "717ca493-adb9-4c43-95e8-a61055ae446c",
      "metadata": {
        "trusted": true
      },
      "outputs": [],
      "source": [
        "st = 'Print only the words that start with s in this Sentence'"
      ]
    },
    {
      "cell_type": "code",
      "execution_count": 29,
      "id": "893c601d-906a-4dc1-8785-f62ae88ba015",
      "metadata": {
        "trusted": true
      },
      "outputs": [
        {
          "name": "stdout",
          "output_type": "stream",
          "text": [
            "start\n",
            "s\n",
            "Sentence\n"
          ]
        }
      ],
      "source": [
        "new_list = st.split(\" \")\n",
        "\n",
        "for final in new_list:\n",
        "    if final[0] == 's':\n",
        "        print(final)\n",
        "    elif final[0] == 'S':\n",
        "        print(final)"
      ]
    },
    {
      "cell_type": "code",
      "execution_count": 30,
      "id": "373734e5-f699-42d0-a7fb-e233d4f08aa3",
      "metadata": {
        "trusted": true
      },
      "outputs": [
        {
          "name": "stdout",
          "output_type": "stream",
          "text": [
            "0\n",
            "2\n",
            "4\n",
            "6\n",
            "8\n",
            "10\n"
          ]
        }
      ],
      "source": [
        "for even in range(0,11):\n",
        "    if even%2 == 0:\n",
        "        print(even)"
      ]
    },
    {
      "cell_type": "code",
      "execution_count": 31,
      "id": "c6282e23-34e8-4227-a129-e0d14731be0c",
      "metadata": {
        "trusted": true
      },
      "outputs": [
        {
          "name": "stdout",
          "output_type": "stream",
          "text": [
            "[0, 3, 6, 9, 12, 15, 18, 21, 24, 27, 30, 33, 36, 39, 42, 45, 48]\n"
          ]
        }
      ],
      "source": [
        "div_three = []\n",
        "\n",
        "for num in range(0,50):\n",
        "    if num%3 == 0:\n",
        "        div_three.append(num)\n",
        "        \n",
        "print(div_three)"
      ]
    },
    {
      "cell_type": "code",
      "execution_count": 32,
      "id": "3eb2569f-fb80-4f7f-9c28-934177744eb0",
      "metadata": {
        "trusted": true
      },
      "outputs": [],
      "source": [
        "st1 = 'Print every word in this sentence that has an even number of letters'"
      ]
    },
    {
      "cell_type": "code",
      "execution_count": 38,
      "id": "f32b9e41-72cf-4f70-b82a-1ccaffee3d88",
      "metadata": {
        "trusted": true
      },
      "outputs": [
        {
          "name": "stdout",
          "output_type": "stream",
          "text": [
            "word\n",
            "even!\n",
            "\n",
            "\n",
            "in\n",
            "even!\n",
            "\n",
            "\n",
            "this\n",
            "even!\n",
            "\n",
            "\n",
            "sentence\n",
            "even!\n",
            "\n",
            "\n",
            "that\n",
            "even!\n",
            "\n",
            "\n",
            "an\n",
            "even!\n",
            "\n",
            "\n",
            "even\n",
            "even!\n",
            "\n",
            "\n",
            "number\n",
            "even!\n",
            "\n",
            "\n",
            "of\n",
            "even!\n",
            "\n",
            "\n"
          ]
        }
      ],
      "source": [
        "new_list1 = st1.split(\" \")\n",
        "\n",
        "for new in new_list1:\n",
        "    if len(new) %2 == 0:\n",
        "        print(new)\n",
        "        print(\"even!\")\n",
        "        print(\"\\n\")"
      ]
    },
    {
      "cell_type": "code",
      "execution_count": 53,
      "id": "f2eb2af3-72a2-4fba-956a-ece56303e8e1",
      "metadata": {
        "trusted": true
      },
      "outputs": [
        {
          "name": "stdout",
          "output_type": "stream",
          "text": [
            "FizzBuzz\n",
            "1\n",
            "2\n",
            "Fizz\n",
            "4\n",
            "Buzz\n",
            "Fizz\n",
            "7\n",
            "8\n",
            "Fizz\n",
            "Buzz\n",
            "11\n",
            "Fizz\n",
            "13\n",
            "14\n",
            "FizzBuzz\n",
            "16\n",
            "17\n",
            "Fizz\n",
            "19\n",
            "Buzz\n",
            "Fizz\n",
            "22\n",
            "23\n",
            "Fizz\n",
            "Buzz\n",
            "26\n",
            "Fizz\n",
            "28\n",
            "29\n",
            "FizzBuzz\n",
            "31\n",
            "32\n",
            "Fizz\n",
            "34\n",
            "Buzz\n",
            "Fizz\n",
            "37\n",
            "38\n",
            "Fizz\n",
            "Buzz\n",
            "41\n",
            "Fizz\n",
            "43\n",
            "44\n",
            "FizzBuzz\n",
            "46\n",
            "47\n",
            "Fizz\n",
            "49\n",
            "Buzz\n",
            "Fizz\n",
            "52\n",
            "53\n",
            "Fizz\n",
            "Buzz\n",
            "56\n",
            "Fizz\n",
            "58\n",
            "59\n",
            "FizzBuzz\n",
            "61\n",
            "62\n",
            "Fizz\n",
            "64\n",
            "Buzz\n",
            "Fizz\n",
            "67\n",
            "68\n",
            "Fizz\n",
            "Buzz\n",
            "71\n",
            "Fizz\n",
            "73\n",
            "74\n",
            "FizzBuzz\n",
            "76\n",
            "77\n",
            "Fizz\n",
            "79\n",
            "Buzz\n",
            "Fizz\n",
            "82\n",
            "83\n",
            "Fizz\n",
            "Buzz\n",
            "86\n",
            "Fizz\n",
            "88\n",
            "89\n",
            "FizzBuzz\n",
            "91\n",
            "92\n",
            "Fizz\n",
            "94\n",
            "Buzz\n",
            "Fizz\n",
            "97\n",
            "98\n",
            "Fizz\n"
          ]
        }
      ],
      "source": [
        "for fb in range(0,100):\n",
        "    if fb % 3 == 0 and fb % 5 == 0:\n",
        "        print(\"FizzBuzz\")\n",
        "    elif fb % 3 == 0:\n",
        "        print(\"Fizz\")\n",
        "    elif fb % 5 == 0:\n",
        "        print(\"Buzz\")\n",
        "    else:\n",
        "        print(fb)"
      ]
    },
    {
      "cell_type": "code",
      "execution_count": 43,
      "id": "158261eb-3ef8-4a05-b2ea-df39f822887e",
      "metadata": {
        "trusted": true
      },
      "outputs": [],
      "source": [
        "st2 = 'Create a list of the first letters of every word in this string'"
      ]
    },
    {
      "cell_type": "code",
      "execution_count": 45,
      "id": "eeb2b56d-016d-4942-ba9f-89706470410d",
      "metadata": {
        "trusted": true
      },
      "outputs": [
        {
          "name": "stdout",
          "output_type": "stream",
          "text": [
            "['C', 'a', 'l', 'o', 't', 'f', 'l', 'o', 'e', 'w', 'i', 't', 's']\n"
          ]
        }
      ],
      "source": [
        "new_list2 = []\n",
        "\n",
        "words = st2.split(\" \")\n",
        "\n",
        "for first in words:\n",
        "    b = first[0]\n",
        "    new_list2.append(b)\n",
        "    \n",
        "print(new_list2)"
      ]
    }
  ],
  "metadata": {
    "kernelspec": {
      "display_name": "Python (Pyodide)",
      "language": "python",
      "name": "python"
    },
    "language_info": {
      "codemirror_mode": {
        "name": "python",
        "version": 3
      },
      "file_extension": ".py",
      "mimetype": "text/x-python",
      "name": "python",
      "nbconvert_exporter": "python",
      "pygments_lexer": "ipython3",
      "version": "3.8"
    }
  },
  "nbformat": 4,
  "nbformat_minor": 5
}
